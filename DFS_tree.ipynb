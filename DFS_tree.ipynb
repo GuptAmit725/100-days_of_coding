{
  "nbformat": 4,
  "nbformat_minor": 0,
  "metadata": {
    "colab": {
      "name": "DFS_tree.ipynb",
      "provenance": [],
      "authorship_tag": "ABX9TyPAC0qQo+Zxn2WUAuf469Ru",
      "include_colab_link": true
    },
    "kernelspec": {
      "name": "python3",
      "display_name": "Python 3"
    },
    "language_info": {
      "name": "python"
    }
  },
  "cells": [
    {
      "cell_type": "markdown",
      "metadata": {
        "id": "view-in-github",
        "colab_type": "text"
      },
      "source": [
        "<a href=\"https://colab.research.google.com/github/GuptAmit725/100-days_of_coding/blob/main/DFS_tree.ipynb\" target=\"_parent\"><img src=\"https://colab.research.google.com/assets/colab-badge.svg\" alt=\"Open In Colab\"/></a>"
      ]
    },
    {
      "cell_type": "markdown",
      "metadata": {
        "id": "CLsUzHfWj77b"
      },
      "source": [
        "<h1><I>DFS algorithm"
      ]
    },
    {
      "cell_type": "code",
      "metadata": {
        "colab": {
          "base_uri": "https://localhost:8080/",
          "height": 0
        },
        "id": "yoCdmdSnj53x",
        "outputId": "cf3ac2c3-6d15-4d61-a18b-2887171b3402"
      },
      "source": [
        "from collections import defaultdict\n",
        "class DFS:\n",
        "  def __init__(self,n):\n",
        "    self.nodes = n\n",
        "    self.colors = ['white'] * n\n",
        "    self.start_time = [0] * n\n",
        "    self.finish_time = [0] * n\n",
        "    self.tree = defaultdict(list)\n",
        "\n",
        "  def add_edges(self,parent,child):\n",
        "    self.tree[parent].append(child)\n",
        "\n",
        "  \n",
        "  def dfs_visit(self,u):\n",
        "    self.time += 1\n",
        "    self.start_time[u] = self.time\n",
        "    self.colors[u] = 'gray'\n",
        "    for child in self.tree[u]:\n",
        "      if self.colors[child] == 'white':\n",
        "        self.dfs_visit(child)\n",
        "    self.time += 1  \n",
        "    self.finish_time[u] = self.time\n",
        "    self.colors[u] = 'black'\n",
        "\n",
        "\n",
        "  def dfs(self):\n",
        "    for node in range(self.nodes):\n",
        "      self.time = 0\n",
        "      if self.colors[node] == 'white':\n",
        "        self.dfs_visit(node)\n",
        "    print(self.start_time)\n",
        "    print(self.finish_time)\n",
        "    print(self.tree)\n",
        "\n",
        "d = DFS(6)\n",
        "d.add_edges(0, 1)\n",
        "d.add_edges(0, 2)\n",
        "d.add_edges(1, 2)\n",
        "d.add_edges(2, 3)\n",
        "d.add_edges(3, 1)\n",
        "d.add_edges(4, 3)\n",
        "d.add_edges(4, 5)\n",
        "d.add_edges(5, 5)\n",
        "d.dfs()"
      ],
      "execution_count": 20,
      "outputs": [
        {
          "output_type": "stream",
          "text": [
            "[1, 2, 3, 4, 1, 2]\n",
            "[8, 7, 6, 5, 4, 3]\n",
            "defaultdict(<class 'list'>, {0: [1, 2], 1: [2], 2: [3], 3: [1], 4: [3, 5], 5: [5]})\n"
          ],
          "name": "stdout"
        }
      ]
    },
    {
      "cell_type": "code",
      "metadata": {
        "id": "gPqhiKrbkES2"
      },
      "source": [
        ""
      ],
      "execution_count": null,
      "outputs": []
    }
  ]
}