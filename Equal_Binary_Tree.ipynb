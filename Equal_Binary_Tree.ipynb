{
 "cells": [
  {
   "cell_type": "code",
   "execution_count": 15,
   "id": "223d116f",
   "metadata": {},
   "outputs": [],
   "source": [
    "class node: #Node constructor\n",
    "    def __init__(self,info):\n",
    "        self.info = info\n",
    "        self.left = None\n",
    "        self.right = None\n",
    "        \n",
    "        \n",
    "def insert(ptr, key): # inserting element into the tree\n",
    "    if ptr is None:\n",
    "        ptr = node(key)\n",
    "    elif (key <= ptr.info):\n",
    "        ptr.left = insert(ptr.left,key)\n",
    "    else:\n",
    "        ptr.right = insert(ptr.right,key)\n",
    "    return ptr\n",
    "def countNodes(root): #counting the nodes by iterative approach by implementing stack\n",
    "    count = 0\n",
    "    stack = []\n",
    "    temp = root\n",
    "    stack.append(root)\n",
    "    while (len(stack)>0):\n",
    "        node = stack.pop(0)\n",
    "        if node:\n",
    "            count+=1\n",
    "        if node.left:\n",
    "            stack.append(node.left)\n",
    "        if node.right:\n",
    "            stack.append(node.right)\n",
    "            \n",
    "    return count\n",
    "\n",
    "def isEqual(root_1,root_2): #Using stacks to compare.\n",
    "    if not root_1 or not root_2:\n",
    "        return 0\n",
    "    elif not root_1 and not root_2:\n",
    "        return 1\n",
    "    else:\n",
    "        l_1 = countNodes(root_1)\n",
    "        l_2 = countNodes(root_2)\n",
    "        s_1,s_2 = [],[]\n",
    "        temp_1, temp_2 = root_1, root_2\n",
    "        s_1.append(root_1)\n",
    "        s_2.append(root_2)\n",
    "        c = 0\n",
    "        while len(s_1)> 0 and len(s_2) > 0:\n",
    "            \n",
    "            node_1,node_2 = s_1.pop(),s_2.pop()\n",
    "            if node_1.info == node_2.info:\n",
    "                c += 1\n",
    "            else:\n",
    "                return 0\n",
    "            if node_1.left and node_2.left:    \n",
    "                s_1.append(node_1.left)\n",
    "                s_2.append(node_2.left)\n",
    "            if node_2.right and node_2.right:    \n",
    "                s_1.append(node_1.right)\n",
    "                s_2.append(node_2.right)\n",
    "                \n",
    "        if l_1 == l_2 == c:\n",
    "            return 1"
   ]
  },
  {
   "cell_type": "code",
   "execution_count": 29,
   "id": "43614613",
   "metadata": {},
   "outputs": [
    {
     "name": "stdout",
     "output_type": "stream",
     "text": [
      "The trees are not equal!\n"
     ]
    }
   ],
   "source": [
    "\n",
    "if __name__ == '__main__':            \n",
    "    root_1 = node(2)\n",
    "    root_2 = node(2)\n",
    "    for i in [3,2,5,6,3,5,6]:\n",
    "        root_1 = insert(root_1,i)\n",
    "    for i in [3,2,5,3,5,6,4]:    \n",
    "        root_2 = insert(root_2,i) \n",
    "    if isEqual(root_1,root_2):    \n",
    "        print('The trees are equal!')\n",
    "    else:\n",
    "        print('The trees are not equal!')"
   ]
  },
  {
   "cell_type": "code",
   "execution_count": null,
   "id": "649a5635",
   "metadata": {},
   "outputs": [],
   "source": []
  }
 ],
 "metadata": {
  "kernelspec": {
   "display_name": "Python 3",
   "language": "python",
   "name": "python3"
  },
  "language_info": {
   "codemirror_mode": {
    "name": "ipython",
    "version": 3
   },
   "file_extension": ".py",
   "mimetype": "text/x-python",
   "name": "python",
   "nbconvert_exporter": "python",
   "pygments_lexer": "ipython3",
   "version": "3.8.5"
  }
 },
 "nbformat": 4,
 "nbformat_minor": 5
}
