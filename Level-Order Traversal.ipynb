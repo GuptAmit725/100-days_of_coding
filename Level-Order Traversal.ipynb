{
 "cells": [
  {
   "cell_type": "markdown",
   "id": "7a1a74c4",
   "metadata": {},
   "source": [
    "<h1><I>Level-Order Traversal of a tree"
   ]
  },
  {
   "cell_type": "code",
   "execution_count": 18,
   "id": "28ab7c0e",
   "metadata": {},
   "outputs": [],
   "source": [
    "class Node:\n",
    "    def __init__(self,info):\n",
    "        self.info = info\n",
    "        self.left = None\n",
    "        self.right = None\n",
    "        \n",
    "root = Node(1)\n",
    "root.left = Node(2)\n",
    "root.right = Node(3)\n",
    "root.left.left = Node(4)\n",
    "root.left.right = Node(5)\n",
    "root.left.right.left = Node(15)\n",
    "root.left.right.right = Node(25)\n"
   ]
  },
  {
   "cell_type": "code",
   "execution_count": 19,
   "id": "b2a74f7b",
   "metadata": {},
   "outputs": [
    {
     "name": "stdout",
     "output_type": "stream",
     "text": [
      "1 2 3 4 5 15 25 "
     ]
    }
   ],
   "source": [
    "def level_order(root):\n",
    "    stack = []\n",
    "    stack.append(root)\n",
    "    while len(stack) > 0:\n",
    "        node = stack.pop(0)\n",
    "        if node:\n",
    "            print(node.info,end=' ')\n",
    "        else:\n",
    "            print('Empty!')\n",
    "        if node.left:\n",
    "            stack.append(node.left)\n",
    "        if node.right:\n",
    "            stack.append(node.right)\n",
    "    return \n",
    "level_order(root)"
   ]
  },
  {
   "cell_type": "code",
   "execution_count": null,
   "id": "30313d94",
   "metadata": {},
   "outputs": [],
   "source": []
  }
 ],
 "metadata": {
  "kernelspec": {
   "display_name": "Python 3",
   "language": "python",
   "name": "python3"
  },
  "language_info": {
   "codemirror_mode": {
    "name": "ipython",
    "version": 3
   },
   "file_extension": ".py",
   "mimetype": "text/x-python",
   "name": "python",
   "nbconvert_exporter": "python",
   "pygments_lexer": "ipython3",
   "version": "3.8.5"
  }
 },
 "nbformat": 4,
 "nbformat_minor": 5
}
