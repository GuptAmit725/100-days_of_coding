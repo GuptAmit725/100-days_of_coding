{
 "cells": [
  {
   "cell_type": "markdown",
   "id": "37b86ff1",
   "metadata": {},
   "source": [
    "<h1><I>Spiral Traversal in Binary Tree"
   ]
  },
  {
   "cell_type": "code",
   "execution_count": null,
   "id": "fe58cdc2",
   "metadata": {},
   "outputs": [],
   "source": [
    "class Node:\n",
    "    def __init__(self,info):\n",
    "        self.info = info\n",
    "        self.left = None\n",
    "        self.right = None\n",
    "        \n",
    "root = Node(1)\n",
    "root.left = Node(2)\n",
    "root.right = Node(3)\n",
    "root.left.left = Node(4)\n",
    "root.left.right = Node(5)\n",
    "root.left.right.left = Node(15)\n",
    "root.left.right.right = Node(25)"
   ]
  },
  {
   "cell_type": "code",
   "execution_count": 20,
   "id": "a504c6e5",
   "metadata": {},
   "outputs": [
    {
     "name": "stdout",
     "output_type": "stream",
     "text": [
      "1 3 2 4 5 25 15 "
     ]
    }
   ],
   "source": [
    "def spiral_order(root):\n",
    "    stack = []\n",
    "    c = 0\n",
    "    stack.append(root)\n",
    "    while len(stack) > 0:\n",
    "        child = []\n",
    "        if c % 2 == 0:\n",
    "            while stack:\n",
    "                node = stack.pop(0)\n",
    "                if node.left:\n",
    "                    child.append(node.left)\n",
    "                if node.right:\n",
    "                    child.append(node.right)\n",
    "                if node:\n",
    "                    print(node.info,end=' ')                \n",
    "        else:\n",
    "            while stack:\n",
    "                child = []\n",
    "                node = stack.pop()\n",
    "                if node.left:\n",
    "                    child.append(node.left)\n",
    "                if node.right:\n",
    "                    child.append(node.right)\n",
    "                if node:\n",
    "                    print(node.info,end=' ')\n",
    "        c += 1\n",
    "        stack += child \n",
    "    return \n",
    "spiral_order(root)"
   ]
  },
  {
   "cell_type": "code",
   "execution_count": null,
   "id": "27097806",
   "metadata": {},
   "outputs": [],
   "source": []
  }
 ],
 "metadata": {
  "kernelspec": {
   "display_name": "Python 3",
   "language": "python",
   "name": "python3"
  },
  "language_info": {
   "codemirror_mode": {
    "name": "ipython",
    "version": 3
   },
   "file_extension": ".py",
   "mimetype": "text/x-python",
   "name": "python",
   "nbconvert_exporter": "python",
   "pygments_lexer": "ipython3",
   "version": "3.8.5"
  }
 },
 "nbformat": 4,
 "nbformat_minor": 5
}
